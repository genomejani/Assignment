{
 "cells": [
  {
   "cell_type": "code",
   "execution_count": 11,
   "metadata": {},
   "outputs": [
    {
     "name": "stdout",
     "output_type": "stream",
     "text": [
      "Input the temperature in degree to convert in fahrenheit\n",
      "30\n",
      "Temperature in fahrenheit: 86.0\n"
     ]
    }
   ],
   "source": [
    "tempD = float(input('Input the temperature in degree to convert in fahrenheit\\n'))\n",
    "tempF = (tempD * 9/5) + 32 \n",
    "print('Temperature in fahrenheit:', tempF)"
   ]
  },
  {
   "cell_type": "code",
   "execution_count": 16,
   "metadata": {},
   "outputs": [
    {
     "name": "stdout",
     "output_type": "stream",
     "text": [
      "Input the radius of Circle\n",
      "2\n",
      "For Radius: 2.0 the area of circle is: 12.571428571428571 and perimeter is: 12.571428571428571\n"
     ]
    }
   ],
   "source": [
    "R = float(input('Input the radius of Circle\\n'))\n",
    "Area = 22/7 * R**2\n",
    "Perimeter = 2 * 22/7 * R\n",
    "print('For Radius:', R , 'the area of circle is:', Area , 'and perimeter is:' , Perimeter)"
   ]
  },
  {
   "cell_type": "code",
   "execution_count": 23,
   "metadata": {},
   "outputs": [
    {
     "name": "stdout",
     "output_type": "stream",
     "text": [
      "Enter Amount\n",
      "200\n",
      "Enter Interset Percentage\n",
      "10\n",
      "Total Amount is 220.0\n"
     ]
    }
   ],
   "source": [
    "Amt = float(input('Enter Amount\\n'))\n",
    "Per = float(input('Enter Interset Percentage\\n'))               \n",
    "Total = Amt + (Amt * Per/100)\n",
    "print('Total Amount is', Total)"
   ]
  },
  {
   "cell_type": "markdown",
   "metadata": {},
   "source": []
  },
  {
   "cell_type": "code",
   "execution_count": 26,
   "metadata": {},
   "outputs": [
    {
     "name": "stdout",
     "output_type": "stream",
     "text": [
      "Input the distance in meter\n",
      "2\n",
      "Distance in Centimeter: 200.0 ,Distance in inch: 78.74 ,Distance in Yard: 2.1872\n"
     ]
    }
   ],
   "source": [
    "Dist = float(input('Input the distance in meter\\n'))\n",
    "Cent = Dist * 100\n",
    "inch = Dist * 39.37\n",
    "Yard = Dist *  1.0936\n",
    "print('Distance in Centimeter:', Cent , ',Distance in inch:', inch , ',Distance in Yard:' , Yard)"
   ]
  },
  {
   "cell_type": "code",
   "execution_count": 30,
   "metadata": {},
   "outputs": [
    {
     "name": "stdout",
     "output_type": "stream",
     "text": [
      "Input the Actual cost\n",
      "30\n",
      "Input the Selling Cost\n",
      "20\n",
      "Loss is: -10.0\n"
     ]
    }
   ],
   "source": [
    "##Write a Python program to calculate profit or loss. Input is selling cost and actual cost of a product.\n",
    "Acost = float(input('Input the Actual cost\\n'))\n",
    "Scost = float(input('Input the Selling Cost\\n'))\n",
    "\n",
    "Tover = Scost-Acost\n",
    "if(Tover > 0):\n",
    "    print('Profit is:' , Tover)\n",
    "if(Tover < 0):\n",
    "    print('Loss is:' , Tover)"
   ]
  },
  {
   "cell_type": "code",
   "execution_count": null,
   "metadata": {},
   "outputs": [],
   "source": [
    "Write a program to input basic salary and find output of gross salary using\n",
    "following:\n",
    "DA = 75% of basic\n",
    "HRA = 20% of basic\n",
    "Conditions:\n",
    "Basic < 10000 : gross = da + basic\n",
    "Basic >= 10000 and < 20000 : gross = da + basic + 50% of hra\n",
    "Basic >= 20000 : gross = basic + da + hra"
   ]
  },
  {
   "cell_type": "code",
   "execution_count": 33,
   "metadata": {},
   "outputs": [
    {
     "name": "stdout",
     "output_type": "stream",
     "text": [
      "Input the Basic Salary\n",
      "10000\n",
      "Gross Salary is: 18500.0\n"
     ]
    }
   ],
   "source": [
    "Sal = float(input('Input the Basic Salary\\n'))\n",
    "DA = 75\n",
    "HRA = 20\n",
    "if (Sal < 10000):\n",
    "    gross= .75*Sal + Sal\n",
    "if (Sal < 10000):\n",
    "    gross= .75*Sal + Sal\n",
    "if (Sal  >= 10000 and Sal < 200000):\n",
    "    gross= .75*Sal + Sal + .1 * Sal\n",
    "if (Sal  >= 20000 ):\n",
    "    gross= .75*Sal + Sal + .2 * Sal\n",
    "print ('Gross Salary is:', gross)"
   ]
  },
  {
   "cell_type": "code",
   "execution_count": null,
   "metadata": {},
   "outputs": [],
   "source": [
    "Write a program to read a number from user and find the factorial of the number."
   ]
  },
  {
   "cell_type": "code",
   "execution_count": 34,
   "metadata": {},
   "outputs": [
    {
     "name": "stdout",
     "output_type": "stream",
     "text": [
      "Input the Number for factorial calculation\n",
      "5\n",
      "Factorial of number 5.0 is 120\n"
     ]
    }
   ],
   "source": [
    "import math\n",
    "x = float(input('Input the Number for factorial calculation\\n'))\n",
    "y= math.factorial(x)\n",
    "print('Factorial of number' , x ,'is' , y )"
   ]
  },
  {
   "cell_type": "code",
   "execution_count": null,
   "metadata": {},
   "outputs": [],
   "source": [
    "Write a program to read num1 and num2 from keyboard and find addition of all number between that range."
   ]
  },
  {
   "cell_type": "code",
   "execution_count": 37,
   "metadata": {},
   "outputs": [
    {
     "name": "stdout",
     "output_type": "stream",
     "text": [
      "Input the first Number \n",
      "20\n",
      "Input the Second Number \n",
      "30\n",
      "The sum of all numbers between 20 and 30 is: 275\n"
     ]
    }
   ],
   "source": [
    "num1 = int(input('Input the first Number \\n'))\n",
    "num2 = int(input('Input the Second Number \\n'))\n",
    "\n",
    "sum_of_numbers = sum(range(num1, num2 + 1))\n",
    "\n",
    "print(f\"The sum of all numbers between {num1} and {num2} is: {sum_of_numbers}\")"
   ]
  },
  {
   "cell_type": "code",
   "execution_count": null,
   "metadata": {},
   "outputs": [],
   "source": [
    "See the tuple given: num = (56,2,35,41,43,48,32,56,71,55,68)\n",
    "Write a program to create two lists from it where first list contains only even\n",
    "numbers and second will contain only odd numbers."
   ]
  },
  {
   "cell_type": "code",
   "execution_count": 40,
   "metadata": {},
   "outputs": [
    {
     "name": "stdout",
     "output_type": "stream",
     "text": [
      "Even: [56, 2, 48, 32, 56, 68]\n",
      "Odd: [35, 41, 43, 71, 55]\n"
     ]
    }
   ],
   "source": [
    "numT = (56,2,35,41,43,48,32,56,71,55,68)\n",
    "Leven=[]\n",
    "Lodd=[]\n",
    "for n in numT:\n",
    "    if(n%2==0):\n",
    "        Leven.append(n)\n",
    "    if(n%2==1):\n",
    "        Lodd.append(n) \n",
    "print('Even:' , Leven)\n",
    "print('Odd:', Lodd)"
   ]
  },
  {
   "cell_type": "code",
   "execution_count": null,
   "metadata": {},
   "outputs": [],
   "source": [
    "#10. Write a program to read a number from user. Create and use a user defined function to check whether it is odd or even?"
   ]
  },
  {
   "cell_type": "code",
   "execution_count": 44,
   "metadata": {},
   "outputs": [
    {
     "name": "stdout",
     "output_type": "stream",
     "text": [
      "Input the to number to check for even/odd \n",
      "3\n",
      "Number is odd \n",
      "\n"
     ]
    }
   ],
   "source": [
    "def oddeven (numx):\n",
    "    if(numx%2==0):\n",
    "        print('Number is even \\n')\n",
    "    if(numx%2==1):\n",
    "        print('Number is odd \\n')\n",
    "\n",
    "num = int(input('Input the to number to check for even/odd \\n'))\n",
    "oddeven(num)\n"
   ]
  },
  {
   "cell_type": "code",
   "execution_count": null,
   "metadata": {},
   "outputs": [],
   "source": [
    " Write a program to read a number from user and find the square root, sin, tan, log\n",
    "and factorial of this number using math module."
   ]
  },
  {
   "cell_type": "code",
   "execution_count": 46,
   "metadata": {},
   "outputs": [
    {
     "name": "stdout",
     "output_type": "stream",
     "text": [
      "Input the to calculate its properties \n",
      "16\n",
      "The square root of 16 is: 4.0\n",
      "The sin of 16 is: -0.2879033166650653\n",
      "The tan of 16 is: 0.3006322420239034\n",
      "The log of 16 is: 2.772588722239781\n",
      "The factorial of 16 is: 20922789888000\n"
     ]
    }
   ],
   "source": [
    "import math as m\n",
    "num = int(input('Input the to calculate its properties \\n'))\n",
    "Nsqrt = m.sqrt(num)\n",
    "Nsin = m.sin(num)\n",
    "Ntan = m.tan(num)\n",
    "Nlog = m.log(num)\n",
    "Nfact = m.factorial(num)\n",
    "\n",
    "print(f\"The square root of {num} is: {Nsqrt}\")\n",
    "print(f\"The sin of {num} is: {Nsin}\")\n",
    "print(f\"The tan of {num} is: {Ntan}\")\n",
    "print(f\"The log of {num} is: {Nlog}\")\n",
    "print(f\"The factorial of {num} is: {Nfact}\")\n"
   ]
  },
  {
   "cell_type": "code",
   "execution_count": null,
   "metadata": {},
   "outputs": [],
   "source": [
    " Write a Python class named ‘Rectangle’ with two attributes length and width and\n",
    "a method named ‘calculate’ which will compute the area of a rectangle. Create an\n",
    "object to pass length and width and call the method to calculate the area of\n",
    "rectangle."
   ]
  },
  {
   "cell_type": "code",
   "execution_count": 51,
   "metadata": {},
   "outputs": [
    {
     "name": "stdout",
     "output_type": "stream",
     "text": [
      "Input the to length of rectangle\n",
      "10\n",
      "Input the to width of rectangle\n",
      "12\n",
      "Area of recatangle is: 120\n"
     ]
    }
   ],
   "source": [
    "class Rectangle:\n",
    "    def __init__(self, length, width):\n",
    "        # Initialize with the two numbers\n",
    "        self.length = length\n",
    "        self.width = width\n",
    "    def calculate_area(self):\n",
    "        return self.length * self.width\n",
    "    \n",
    "length = int(input('Input the to length of rectangle\\n'))\n",
    "width = int(input('Input the to width of rectangle\\n'))\n",
    "rect = Rectangle(length, width)\n",
    "area = rect.calculate_area()\n",
    "print('Area of recatangle is:' ,area)"
   ]
  },
  {
   "cell_type": "code",
   "execution_count": null,
   "metadata": {},
   "outputs": [],
   "source": []
  }
 ],
 "metadata": {
  "kernelspec": {
   "display_name": "Python 3 (ipykernel)",
   "language": "python",
   "name": "python3"
  },
  "language_info": {
   "codemirror_mode": {
    "name": "ipython",
    "version": 3
   },
   "file_extension": ".py",
   "mimetype": "text/x-python",
   "name": "python",
   "nbconvert_exporter": "python",
   "pygments_lexer": "ipython3",
   "version": "3.7.3"
  }
 },
 "nbformat": 4,
 "nbformat_minor": 2
}
